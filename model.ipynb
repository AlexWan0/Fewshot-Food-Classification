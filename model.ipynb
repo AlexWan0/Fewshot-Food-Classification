{
 "cells": [
  {
   "cell_type": "code",
   "execution_count": 39,
   "metadata": {},
   "outputs": [],
   "source": [
    "import os\n",
    "os.environ[\"CUDA_DEVICE_ORDER\"]=\"PCI_BUS_ID\"\n",
    "os.environ[\"CUDA_VISIBLE_DEVICES\"]=\"2\""
   ]
  },
  {
   "attachments": {},
   "cell_type": "markdown",
   "metadata": {},
   "source": [
    "## Load dataset"
   ]
  },
  {
   "cell_type": "code",
   "execution_count": 40,
   "metadata": {},
   "outputs": [],
   "source": [
    "from datasets import load_dataset, load_from_disk\n",
    "#food_dataset = load_dataset('food101')\n",
    "food_dataset = load_from_disk('dataset/test/dataset/')"
   ]
  },
  {
   "cell_type": "code",
   "execution_count": 41,
   "metadata": {},
   "outputs": [],
   "source": [
    "from itertools import chain\n",
    "import random\n",
    "\n",
    "label_index = {}\n",
    "\n",
    "for i, lbl in enumerate(food_dataset['train']['label']):\n",
    "    if lbl not in label_index:\n",
    "        label_index[lbl] = []\n",
    "    \n",
    "    # if len(label_index[lbl]) >= hash(lbl) % 10 + 1:\n",
    "        # continue\n",
    "    \n",
    "    label_index[lbl].append(i)"
   ]
  },
  {
   "cell_type": "code",
   "execution_count": 42,
   "metadata": {},
   "outputs": [
    {
     "name": "stdout",
     "output_type": "stream",
     "text": [
      "14\n"
     ]
    }
   ],
   "source": [
    "import json\n",
    "\n",
    "#with open('mapping.json') as f_in:\n",
    "with open('dataset/test/label_mapping.json') as f_in:\n",
    "    name_to_index = json.load(f_in)\n",
    "\n",
    "index_to_name = {v: k for k, v in name_to_index.items()}\n",
    "\n",
    "num_classes = len(index_to_name)\n",
    "print(num_classes)"
   ]
  },
  {
   "cell_type": "code",
   "execution_count": 43,
   "metadata": {},
   "outputs": [
    {
     "name": "stdout",
     "output_type": "stream",
     "text": [
      "75\n"
     ]
    }
   ],
   "source": [
    "from itertools import chain\n",
    "import random\n",
    "\n",
    "label_index = {}\n",
    "\n",
    "for i, lbl in enumerate(food_dataset['train']['label']):\n",
    "    if lbl not in label_index:\n",
    "        label_index[lbl] = []\n",
    "    \n",
    "    # if len(label_index[lbl]) >= hash(lbl) % 10 + 1:\n",
    "        # continue\n",
    "    \n",
    "    label_index[lbl].append(i)\n",
    "\n",
    "fs_indices = list(chain(*label_index.values()))\n",
    "fs_subset = food_dataset['train'].select(fs_indices)\n",
    "\n",
    "print(len(fs_subset))"
   ]
  },
  {
   "attachments": {},
   "cell_type": "markdown",
   "metadata": {},
   "source": [
    "## Load Model"
   ]
  },
  {
   "cell_type": "code",
   "execution_count": 44,
   "metadata": {},
   "outputs": [],
   "source": [
    "import spacy\n",
    "from itertools import islice\n",
    "\n",
    "nlp = spacy.load(\"en_core_web_sm\")\n",
    "\n",
    "def label_to_string(label, template='A photo of a {name}. A picture of food.'):\n",
    "    label_name = index_to_name[label]\n",
    "    label_name = label_name.replace('_', ' ')\n",
    "    return template.format(name=label_name)\n",
    "\n",
    "def article_text_shorten(text, num_sentences=2):\n",
    "    sents = islice(nlp(text).sents, num_sentences)\n",
    "    sents = [str(s) for s in sents]\n",
    "    return ' '.join(sents)"
   ]
  },
  {
   "cell_type": "code",
   "execution_count": 29,
   "metadata": {},
   "outputs": [],
   "source": [
    "from transformers import CLIPProcessor, CLIPModel\n",
    "\n",
    "hidden_size = 768\n",
    "\n",
    "# laion/CLIP-ViT-H-14-laion2B-s32B-b79K\n",
    "# laion/CLIP-ViT-B-32-laion2B-s34B-b79K\n",
    "# openai/clip-vit-large-patch14\n",
    "def load_clip_model(device='cuda', model_name=\"openai/clip-vit-large-patch14\"):\n",
    "    model = CLIPModel.from_pretrained(model_name)\n",
    "    model.eval()\n",
    "    model.to(device)\n",
    "\n",
    "    processor = CLIPProcessor.from_pretrained(model_name)\n",
    "\n",
    "    return model, processor\n",
    "\n",
    "model, processor = load_clip_model()"
   ]
  },
  {
   "attachments": {},
   "cell_type": "markdown",
   "metadata": {},
   "source": [
    "## Get CLIP embeddings"
   ]
  },
  {
   "cell_type": "code",
   "execution_count": 45,
   "metadata": {},
   "outputs": [
    {
     "name": "stderr",
     "output_type": "stream",
     "text": [
      "100%|██████████| 75/75 [00:13<00:00,  5.72it/s]\n"
     ]
    }
   ],
   "source": [
    "from tqdm import tqdm\n",
    "import torch\n",
    "from torch.nn import functional as F\n",
    "\n",
    "ref_images = torch.zeros((len(fs_subset), hidden_size))\n",
    "ref_text = torch.zeros((num_classes, hidden_size))\n",
    "labels_all = []\n",
    "\n",
    "for i, ex in enumerate(tqdm(fs_subset)):\n",
    "    image, label = ex['image'], ex['label']\n",
    "    labels_all.append(label)\n",
    "    \n",
    "    label_str = label_to_string(label)\n",
    "    #label_str = article_text_shorten(ex['text'], num_sentences=1)\n",
    "\n",
    "    model_input = processor(\n",
    "        images=image, text=label_str, return_tensors=\"pt\", padding=True, truncation=True\n",
    "    ).to('cuda')\n",
    "\n",
    "    model_output = model(**model_input)\n",
    "\n",
    "    ref_images[i] = model_output.image_embeds.detach().cpu()\n",
    "    ref_text[label] = model_output.text_embeds.detach().cpu()\n",
    "\n",
    "labels_oh = F.one_hot(torch.tensor(labels_all), num_classes=num_classes).float()\n",
    "labels_oh = labels_oh / torch.sum(labels_oh, dim=0, keepdim=True)\n",
    "assert not torch.isnan(labels_oh).any()"
   ]
  },
  {
   "attachments": {},
   "cell_type": "markdown",
   "metadata": {},
   "source": [
    "## Main TIP-Adapter Code"
   ]
  },
  {
   "cell_type": "code",
   "execution_count": 46,
   "metadata": {},
   "outputs": [],
   "source": [
    "def infer_single(test_image, beta=1.0, alpha=1.0):\n",
    "    test_image_embeds = model(\n",
    "        **(processor(images=test_image, text='', return_tensors=\"pt\", padding=True).to('cuda'))\n",
    "    ).image_embeds.cpu()\n",
    "\n",
    "    img_sim = torch.matmul(test_image_embeds, ref_images.T)\n",
    "    img_sim = ((-1) * (beta - beta * img_sim)).exp()\n",
    "    class_sim_img = torch.matmul(img_sim, labels_oh) # (1, num_classes)\n",
    "\n",
    "    class_sim_text = torch.matmul(test_image_embeds, ref_text.T) # (1, num_classes)\n",
    "\n",
    "    class_sim = alpha * class_sim_img + class_sim_text # (1, num_classes)\n",
    "\n",
    "    return class_sim"
   ]
  },
  {
   "attachments": {},
   "cell_type": "markdown",
   "metadata": {},
   "source": [
    "## Evaluate"
   ]
  },
  {
   "cell_type": "code",
   "execution_count": 47,
   "metadata": {},
   "outputs": [],
   "source": [
    "from sklearn.metrics import accuracy_score, classification_report\n",
    "\n",
    "food_dataset['validation'] = food_dataset['validation'].shuffle()\n",
    "\n",
    "def validate(alpha=1.0, beta=1.0, limit_test=500, verbose=False):\n",
    "    labels = []\n",
    "    preds = []\n",
    "    top_5_all = []\n",
    "\n",
    "    total_test = min(len(food_dataset['validation']), limit_test)\n",
    "\n",
    "    for test_idx, test_sample in enumerate(tqdm(food_dataset['validation'], total=total_test)):\n",
    "        if test_idx >= limit_test:\n",
    "            break\n",
    "        \n",
    "        test_label = test_sample['label']\n",
    "        test_image = test_sample['image']\n",
    "\n",
    "        logits = infer_single(test_image, alpha=alpha, beta=beta)\n",
    "        preds_top_5 = torch.sort(logits, descending=True)[1][0,:5]\n",
    "        preds_top_1 = preds_top_5[0]\n",
    "\n",
    "        labels.append(test_label)\n",
    "        preds.append(preds_top_1)\n",
    "        top_5_all.append(test_label in preds_top_5)\n",
    "\n",
    "    if verbose:\n",
    "        print(classification_report(labels, preds))\n",
    "\n",
    "    top_5_acc = sum(top_5_all) / len(top_5_all)\n",
    "\n",
    "    return accuracy_score(labels, preds), top_5_acc"
   ]
  },
  {
   "cell_type": "code",
   "execution_count": 48,
   "metadata": {},
   "outputs": [
    {
     "name": "stderr",
     "output_type": "stream",
     "text": [
      "100%|██████████| 12/12 [00:02<00:00,  5.58it/s]\n"
     ]
    },
    {
     "data": {
      "text/plain": [
       "(0.5833333333333334, 0.8333333333333334)"
      ]
     },
     "execution_count": 48,
     "metadata": {},
     "output_type": "execute_result"
    }
   ],
   "source": [
    "validate(alpha=0.1, beta=0.1, limit_test=5000, verbose=False)"
   ]
  },
  {
   "attachments": {},
   "cell_type": "markdown",
   "metadata": {},
   "source": [
    "## Hyperparameter Search"
   ]
  },
  {
   "cell_type": "code",
   "execution_count": null,
   "metadata": {},
   "outputs": [
    {
     "name": "stdout",
     "output_type": "stream",
     "text": [
      "testing {'alpha': 0.01, 'beta': 0.01}\n"
     ]
    },
    {
     "name": "stderr",
     "output_type": "stream",
     "text": [
      " 11%|█         | 7/65 [00:01<00:14,  3.87it/s]/home/alexwan/miniconda/lib/python3.9/site-packages/PIL/Image.py:996: UserWarning: Palette images with Transparency expressed in bytes should be converted to RGBA images\n",
      "  warnings.warn(\n",
      "100%|██████████| 65/65 [00:14<00:00,  4.41it/s]\n"
     ]
    },
    {
     "ename": "TypeError",
     "evalue": "'>' not supported between instances of 'tuple' and 'float'",
     "output_type": "error",
     "traceback": [
      "\u001b[0;31m---------------------------------------------------------------------------\u001b[0m",
      "\u001b[0;31mTypeError\u001b[0m                                 Traceback (most recent call last)",
      "Cell \u001b[0;32mIn[11], line 16\u001b[0m\n\u001b[1;32m     13\u001b[0m \u001b[39mprint\u001b[39m(\u001b[39mf\u001b[39m\u001b[39m'\u001b[39m\u001b[39mtesting \u001b[39m\u001b[39m{\u001b[39;00mhyps\u001b[39m}\u001b[39;00m\u001b[39m'\u001b[39m)\n\u001b[1;32m     14\u001b[0m score \u001b[39m=\u001b[39m validate(\u001b[39m*\u001b[39m\u001b[39m*\u001b[39mhyps)\n\u001b[0;32m---> 16\u001b[0m \u001b[39mif\u001b[39;00m score \u001b[39m>\u001b[39;49m best_score:\n\u001b[1;32m     17\u001b[0m     \u001b[39mprint\u001b[39m(\u001b[39mf\u001b[39m\u001b[39m'\u001b[39m\u001b[39mnew_score=\u001b[39m\u001b[39m{\u001b[39;00mscore\u001b[39m}\u001b[39;00m\u001b[39m > best_score=\u001b[39m\u001b[39m{\u001b[39;00mbest_score\u001b[39m}\u001b[39;00m\u001b[39m; best_config=\u001b[39m\u001b[39m{\u001b[39;00mhyps\u001b[39m}\u001b[39;00m\u001b[39m'\u001b[39m)\n\u001b[1;32m     18\u001b[0m     best_hyps \u001b[39m=\u001b[39m hyps\n",
      "\u001b[0;31mTypeError\u001b[0m: '>' not supported between instances of 'tuple' and 'float'"
     ]
    }
   ],
   "source": [
    "import itertools\n",
    "\n",
    "param_grid = {\n",
    "    'alpha': [0.01, 0.1, 1, 2, 5],\n",
    "    'beta': [0.01, 0.1, 1, 2, 5]\n",
    "}\n",
    "\n",
    "best_hyps = None\n",
    "best_score = float('-inf')\n",
    "\n",
    "for combination in itertools.product(*param_grid.values()):\n",
    "    hyps = dict(zip(param_grid.keys(), combination))\n",
    "    print(f'testing {hyps}')\n",
    "    score = validate(**hyps)\n",
    "\n",
    "    if score > best_score:\n",
    "        print(f'new_score={score} > best_score={best_score}; best_config={hyps}')\n",
    "        best_hyps = hyps\n",
    "        best_score = score\n",
    "    else:\n",
    "        print(f'new =_score={score} <= best_score={best_score}; best_config={best_hyps}')"
   ]
  }
 ],
 "metadata": {
  "kernelspec": {
   "display_name": "base",
   "language": "python",
   "name": "python3"
  },
  "language_info": {
   "codemirror_mode": {
    "name": "ipython",
    "version": 3
   },
   "file_extension": ".py",
   "mimetype": "text/x-python",
   "name": "python",
   "nbconvert_exporter": "python",
   "pygments_lexer": "ipython3",
   "version": "3.9.16"
  },
  "orig_nbformat": 4
 },
 "nbformat": 4,
 "nbformat_minor": 2
}
